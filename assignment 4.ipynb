{
 "cells": [
  {
   "cell_type": "code",
   "execution_count": null,
   "id": "5aa0f8e5",
   "metadata": {},
   "outputs": [],
   "source": [
    "1.    What exactly is []?\n",
    "\n",
    "Ans1  [] are Index brackets and have many uses in Python.They are used to define \"list literals,\" allowing you to declare a list    \n",
    "and its contents in your program. Index brackets are also used to write expressions that evaluate to a single item within\n",
    "a list, or a single character in a string\n"
   ]
  },
  {
   "cell_type": "code",
   "execution_count": null,
   "id": "bf999859",
   "metadata": {},
   "outputs": [],
   "source": [
    "2.   In a list of values stored in a variable called spam, how would you assign the value 'hello' as the third value? (Assume        [2,4, 6, 8, 10] are in spam.)\n",
    "\n",
    "Ans. spam[2]='hello'\n"
   ]
  },
  {
   "cell_type": "code",
   "execution_count": null,
   "id": "4e86f50d",
   "metadata": {},
   "outputs": [],
   "source": [
    "3.    Let's pretend the spam includes the list ['a', 'b', 'c', 'd'] for the next three queries.\n",
    "      What is the value of spam[int(int('3' * 2) / 11)]?\n",
    "  \n",
    "Ans3. 'd'"
   ]
  },
  {
   "cell_type": "code",
   "execution_count": null,
   "id": "b11bc263",
   "metadata": {},
   "outputs": [],
   "source": [
    "4.    What is the value of spam[-1]?\n",
    "\n",
    "And. 'd'"
   ]
  },
  {
   "cell_type": "code",
   "execution_count": null,
   "id": "c503708d",
   "metadata": {},
   "outputs": [],
   "source": [
    "5.     What is the value of spam[:2]?\n",
    "Ans5.  ['a', 'b]'\n"
   ]
  },
  {
   "cell_type": "code",
   "execution_count": null,
   "id": "ea0a65d1",
   "metadata": {},
   "outputs": [],
   "source": [
    "Let's pretend bacon has the list [3.14, 'cat,' 11, 'cat,' True] for the next three questions.\n",
    "\n",
    "6.    What is the value of bacon.index('cat')?\n",
    "\n",
    "Ans.  1"
   ]
  },
  {
   "cell_type": "code",
   "execution_count": null,
   "id": "c5b1253c",
   "metadata": {},
   "outputs": [],
   "source": [
    "7.     How does bacon.append(99) change the look of the list value in bacon?\n",
    "\n",
    "Ans7.  bacon.append(99) will add 99  to the end of the list.\n",
    "       bacon=[3.14, 'cat', 11, 'cat', True, 99]\n"
   ]
  },
  {
   "cell_type": "code",
   "execution_count": null,
   "id": "6be5a557",
   "metadata": {},
   "outputs": [],
   "source": [
    "8.    How does bacon.remove('cat') change the look of the list in bacon?\n",
    "\n",
    "Ans8. It will remove the 'Cat'  from the 1st index of the list.\n",
    "      bacon=[3.14, 11, 'cat', True]\n",
    "\n",
    "      "
   ]
  },
  {
   "cell_type": "code",
   "execution_count": null,
   "id": "11c8d4e2",
   "metadata": {},
   "outputs": [],
   "source": [
    "9.     What are the list concatenation and list replication operators?\n",
    "\n",
    "Ans9.  list concatenation  operator is (+). The '+=' operator can be used to concatenate two lists.\n",
    "       the * operator is list replication operator and can do string and list replication."
   ]
  },
  {
   "cell_type": "code",
   "execution_count": null,
   "id": "95349db3",
   "metadata": {},
   "outputs": [],
   "source": [
    "#eg for string concatination\n",
    "\n",
    "x=['Pyhon']\n",
    "\n",
    "y=['Java']\n",
    "\n",
    "​\n",
    "\n",
    "z=x+y\n",
    "\n",
    "z\n",
    "\n",
    "['Pyhon', 'Java']\n",
    "\n",
    "#eg for list replication\n",
    "\n",
    "x = ['Python']\n",
    "\n",
    "x *= 3\n",
    "\n",
    "x\n",
    "\n",
    "['Python', 'Python', 'Python']"
   ]
  },
  {
   "cell_type": "code",
   "execution_count": null,
   "id": "5ef83dc1",
   "metadata": {},
   "outputs": [],
   "source": [
    "10. What is difference between the list methods append() and insert()?\n",
    "\n",
    "Ans10. append() adds an item to the end of the list,whereas insert()  insert a list item at a specified index.\n",
    "       egs are given below\n"
   ]
  },
  {
   "cell_type": "code",
   "execution_count": null,
   "id": "94961960",
   "metadata": {},
   "outputs": [],
   "source": [
    "#example for append()\n",
    "\n",
    "​\n",
    "\n",
    "thislist = [\"Java\", \"C\", \"C++\"]\n",
    "\n",
    "thislist.append(\"Python\")\n",
    "\n",
    "print(thislist)\n",
    "\n",
    "['Java', 'C', 'C++', 'Python']\n",
    "\n",
    "#example for insert()\n",
    "\n",
    "​\n",
    "\n",
    "thislist = [\"Java\", \"C\", \"C++\"]\n",
    "\n",
    "thislist.insert(1, \"Python\")\n",
    "\n",
    "print(thislist)\n",
    "\n",
    "['Java', 'Python', 'C', 'C++']\n"
   ]
  },
  {
   "cell_type": "code",
   "execution_count": null,
   "id": "0626ac30",
   "metadata": {},
   "outputs": [],
   "source": [
    "11. What are the two methods for removing items from a list?\n",
    "\n",
    "​\n",
    "\n",
    "Ans11. remove() and pop() are the two methods for removing items from a list.\n",
    "\n",
    "       The remove() method removes the specified item whereas The pop() method removes the specified index.\n",
    "\n",
    "​\n",
    "\n",
    "#example for remove()\n",
    "\n",
    "​\n",
    "\n",
    "thislist = [\"Java\", \"C\", \"C++\",\"python\"]\n",
    "\n",
    "thislist.remove(\"C\")\n",
    "\n",
    "print(thislist)\n",
    "\n",
    "​\n",
    "\n",
    "['Java', 'C++', 'python']\n",
    "\n",
    "#example for pop()\n",
    "\n",
    "​\n",
    "\n",
    "thislist = [\"Java\", \"C\", \"C++\",\"python\"]\n",
    "\n",
    "thislist.pop(1)\n",
    "\n",
    "print(thislist)\n",
    "\n",
    "['Java', 'C++', 'python']"
   ]
  },
  {
   "cell_type": "code",
   "execution_count": null,
   "id": "b33860eb",
   "metadata": {},
   "outputs": [],
   "source": [
    "12.Describe how list values and string values are identical.\n",
    "\n",
    "Ans12. A string is a sequence of characters. A list a sequence of values which can be characters, integers or even another list.\n",
    "Both strings and lists have lengths: a string's length is the number of characters in the string; a list's length is    \n",
    "the number of items in the list.Each character in a string as well as each item in a list has a position, which is\n",
    "called an index."
   ]
  },
  {
   "cell_type": "code",
   "execution_count": null,
   "id": "19960d90",
   "metadata": {},
   "outputs": [],
   "source": [
    "13.    What's the difference between tuples and lists?\n",
    "Ans13. it is possible to change a list but we cannot change tuple.\n",
    "       The primary difference between tuples and lists is that tuples are immutable whereas lists which are mutable."
   ]
  },
  {
   "cell_type": "code",
   "execution_count": null,
   "id": "b7610912",
   "metadata": {},
   "outputs": [],
   "source": [
    "14.    How do you type a tuple value that only contains the integer 42?\n",
    "\n",
    "Ans14  tup1=(42,)"
   ]
  },
  {
   "cell_type": "code",
   "execution_count": null,
   "id": "60b89d9f",
   "metadata": {},
   "outputs": [],
   "source": [
    "15.   How do you get a list value's tuple form? How do you get a tuple value's list form?\n",
    "\n",
    "Ans   tuple(['java', 'python', 2])\n",
    "\n",
    "     list(('java', 'python', 5))"
   ]
  },
  {
   "cell_type": "code",
   "execution_count": null,
   "id": "24366de4",
   "metadata": {},
   "outputs": [],
   "source": [
    "16. Variables that \"contain\" list values are not necessarily lists themselves. Instead, what do they contain?\n",
    "\n",
    "Ans. Variables will contain references to list values rather than list values themselves."
   ]
  },
  {
   "cell_type": "code",
   "execution_count": null,
   "id": "d161ff94",
   "metadata": {},
   "outputs": [],
   "source": [
    "17. How do you distinguish between copy.copy() and copy.deepcopy()?\n",
    "\n",
    "Ans17. A shallow copy is a copy of an object that stores the reference of the original elements. It creates the new collection          \n",
    "object and then occupying it with reference to the child objects found in the original.\n",
    "\n",
    " A deep copy is a process where we create a new object and add copy elements recursively. We will use the deecopy() method       \n",
    "    which present in copy module. The independent copy is created of original object and its entire object.\n",
    "       \n",
    "       examples are given below:-"
   ]
  },
  {
   "cell_type": "code",
   "execution_count": null,
   "id": "7d1b15f0",
   "metadata": {},
   "outputs": [],
   "source": [
    "#example for copy.copy()\n",
    "\n",
    "​\n",
    "\n",
    "list1 = [1, 7, [3,5], 8]   \n",
    "\n",
    " \n",
    "\n",
    "list2 = copy.copy(list1)   \n",
    "\n",
    "  \n",
    "\n",
    "print (\"The original elements before shallow copying\")   \n",
    "\n",
    "for i in range(0,len(list1)):   \n",
    "\n",
    "    print (list1[i],end=\" \")   \n",
    "\n",
    "print(\"\\r\")   \n",
    "\n",
    "  \n",
    "\n",
    "​\n",
    "\n",
    "list2[2][0] = 10  \n",
    "\n",
    "  \n",
    "\n",
    "print(\"The original elements after shallow copying\")   \n",
    "\n",
    "for i in range(0,len( list1)):   \n",
    "\n",
    "    print (list1[i],end=\" \")    \n",
    "\n",
    "The original elements before shallow copying\n",
    "1 7 [3, 5] 8 \n",
    "The original elements after shallow copying\n",
    "1 7 [10, 5] 8 \n",
    "\n",
    "# example for copy.deepcopy()\n",
    "\n",
    "​\n",
    "\n",
    "import copy  \n",
    "\n",
    "x = [[1, 2, 3], [4, 5, 6], [7, 8, 9]]  \n",
    "\n",
    "z = copy.deepcopy(x)  \n",
    "\n",
    "print(x)  \n",
    "\n",
    "print(z)  \n",
    "\n",
    "[[1, 2, 3], [4, 5, 6], [7, 8, 9]]\n",
    "[[1, 2, 3], [4, 5, 6], [7, 8, 9]]\n"
   ]
  },
  {
   "cell_type": "code",
   "execution_count": null,
   "id": "d21d18ec",
   "metadata": {},
   "outputs": [],
   "source": []
  }
 ],
 "metadata": {
  "kernelspec": {
   "display_name": "Python 3 (ipykernel)",
   "language": "python",
   "name": "python3"
  },
  "language_info": {
   "codemirror_mode": {
    "name": "ipython",
    "version": 3
   },
   "file_extension": ".py",
   "mimetype": "text/x-python",
   "name": "python",
   "nbconvert_exporter": "python",
   "pygments_lexer": "ipython3",
   "version": "3.9.7"
  }
 },
 "nbformat": 4,
 "nbformat_minor": 5
}
